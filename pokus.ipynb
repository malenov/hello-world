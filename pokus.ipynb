import matplotlib.pyplot as plt
import matplotlib.ticker as tick
import numpy as np
import scipy.io.wavfile

NFFT = 512       # the length of the windowing segments

# read input signal
Fs, x1 = scipy.io.wavfile.read("C:\\Work\\__Signal_DBF__\\other\\Vlad's recordings\\rec1011-154354.wav")
x1 = np.array(x1[int(0.5*Fs):int(3.5*Fs)], dtype=float)
Fs = float(Fs)
N1 = len(x1)
t1 = np.arange(N1)/Fs

_, x2 = scipy.io.wavfile.read("C:\\Work\\__Signal_DBF__\\other\\Vlad's recordings\\rec1011-154400.wav")
# x2 = x2[int(0.5*Fs):int(3.3*Fs)]
x2 = np.array(x2[int(0.5*Fs):int(3.5*Fs)], dtype=float)
N2 = len(x2)
t2 = np.arange(N2)/Fs

_, x3 = scipy.io.wavfile.read("C:\\Work\\__Signal_DBF__\\other\\Vlad's recordings\\rec1011-154424.wav")
# x3 = x3[int(0.5*Fs):int(3.3*Fs)]
x3 = np.array(x3[int(0.5*Fs):int(3.5*Fs)], dtype=float)
N3 = len(x3)
t3 = np.arange(N3)/Fs


# add some noise
# delta = 0
# x = x + np.random.uniform(low=-delta, high=delta, size=(N,))

# create graysclae colormap for spectrogram, make low values white
# cmap = plt.get_cmap('Greys')
# cmap.set_under(color='w', alpha=None)
# cmap.set_over(color='k', alpha=None)

# create figure with 2 subplots sharing the x axis
f, ax = plt.subplots(2, 3, sharex='col', sharey='row', figsize=(20, 10))

ax[0,0].plot(t1, x1)
ax[0,1].plot(t2, x2)
ax[0,2].plot(t3, x3)



# ax1 = plt.subplot(211)
# plt.plot(t, x)
# plt.subplot(212, sharex=ax1)

# Pxx is the segments x freqs array of instantaneous power, freqs is
# the frequency vector, bins are the centers of the time bins in which
# the power is computed, and im is the matplotlib.image.AxesImage instance
vmin = 10
vmax = 20

Pxx, freqs, bins, im = ax[1,0].specgram(x1, NFFT=NFFT, Fs=Fs, noverlap=NFFT/2, cmap='Greys',
                                      vmin=vmin, vmax=vmax, xextent=(0, N1/Fs))

# cbar = f.colorbar(im)

Pxx, freqs, bins, im = ax[1,1].specgram(x2, NFFT=NFFT, Fs=Fs, noverlap=NFFT/2, cmap='Greys',
                                       vmin=vmin, vmax=vmax, xextent=(0, N2/Fs))

Pxx, freqs, bins, im = ax[1,2].specgram(x3, NFFT=NFFT, Fs=Fs, noverlap=NFFT/2, cmap='Greys',
                                       vmin=vmin, vmax=vmax, xextent=(0, N3/Fs))


ax[0,0].locator_params(axis='y',nbins=3)
ax[1,0].locator_params(axis='y',nbins=5)
ax[1,0].locator_params(axis='x',nbins=3)
ax[1,1].locator_params(axis='x',nbins=3)
ax[1,2].locator_params(axis='x',nbins=3)

# y axis in kHz
ticks = tick.FuncFormatter(lambda x, pos: '{0:g}'.format(x/1000))
ax[1,0].yaxis.set_major_formatter(ticks)

# x axis in [-1:1]
ticks = tick.FuncFormatter(lambda x, pos: '{0:g}'.format(x/20000))
ax[0,0].yaxis.set_major_formatter(ticks)

fsize = 18
ax[0,0].set_ylabel('amplitude', fontsize=fsize)
ax[1,0].set_ylabel('frequency kHz', fontsize=fsize)
ax[1,0].set_xlabel('time [secs]', fontsize=fsize)
ax[1,1].set_xlabel('time [secs]', fontsize=fsize)
ax[1,2].set_xlabel('time [secs]', fontsize=fsize)
ax[0,0].set_title('normal', fontsize=fsize)
ax[0,1].set_title('whisper', fontsize=fsize)
ax[0,2].set_title('nasal', fontsize=fsize)
             
ax[0,0].tick_params(length=10, labelsize=fsize)
ax[1,0].tick_params(length=10, labelsize=fsize)
ax[1,1].tick_params(length=10, labelsize=fsize)
ax[1,2].tick_params(length=10, labelsize=fsize)

ax[1,0].axis("tight")
ax[1,1].axis("tight")
ax[1,2].axis("tight")
             
plt.show()
