NFFT = 512       # the length of the windowing segments

